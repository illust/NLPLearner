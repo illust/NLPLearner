{
 "cells": [
  {
   "cell_type": "markdown",
   "metadata": {},
   "source": [
    "<script type=\"text/javascript\" src=\"http://cdn.mathjax.org/mathjax/latest/MathJax.js?config=default\"></script>  \n",
    "## 概率图模型\n",
    "先来了解几个概念：  \n",
    "[1] **什么是概率模型？**  \n",
    "它提供了一种描述框架，将学习任务归结于计算变量的概率分布。在概率模型中，利用已知变量推测未知变量的分布称为“推断”，其核心是如何基于可观测变量推测出未知变量的条件分布。  \n",
    "[2] **什么是概率图模型？**  \n",
    "它是一类用图来表达变量相关关系的概率模型。概率图模型大致分为两类：第一类是使用有向无环图表示变量间的依赖关系，称为有向图模型或者贝叶斯网；第二类是使用无向图表示变量间的相关关系，称为无向图模型或马尔可夫网。  \n",
    "[3]**生成式模型与判别式模型及区别**\n",
    "\n",
    "涉及到的模型和技巧列举如下：\n",
    "1. 隐马尔可夫模型\n",
    "2. 马尔科夫随机场\n",
    "3. 最大熵模型\n",
    "4. 条件随机场\n",
    "5. 学习与推断\n",
    "6. 近似推断\n",
    "7. 话题模型  \n",
    "\n",
    "### 1. 贝叶斯网络\n",
    "概念：贝叶斯网络又称为信念网络，是一种基于概念推理的数学模型，其理论基础是贝叶斯公式。[这篇文章](https://baike.baidu.com/tashuo/browse/content?id=bbf9b41cf33c09f9d4856750&lemmaId=&fromLemmaModule=pcBottom)形象地解释了贝叶斯公式的实际应用。  \n",
    "![贝叶斯](https://imgsa.baidu.com/baike/pic/item/0b7b02087bf40ad110a95b3d5e2c11dfa8ecce9b.jpg)  \n",
    "贝叶斯网络提出的目的是通过概率推理处理不确定性和不完整性问题。形式上，一个贝叶斯网络就是一个有向无环图(DAG)，结点表示随机变量，可以是可观测量，隐含变量，未知参量或假设等；结点之间的有向边表示条件依存关系，箭头指向的结点依存于箭头发出的结点（父结点）。  \n",
    "条件独立是贝叶斯网络所依赖的一个核心概念。\n",
    "\n",
    "**每一个结点都与一个概率函数相关，概率函数的输入是该结点的父结点所表示的随机变量的一组特定值，输出为当前结点表示的随机变量的概率值。**  \n",
    "``注：这句话不是很理解``\n",
    "\n",
    "举例说明，贝叶斯网络可以用来表征疾病和病症之间的概率关系。当病症给出时，贝叶斯网络可以用来计算得某些病的概率。从这里可以说明，贝叶斯网络是一种生成式模型（相对于判别式模型，二者区别见[这里](https://www.zhihu.com/question/20446337/answer/74468226)）,它的假定是状态序列决定观测序列。  \n",
    "\n",
    "构造贝叶斯网络是一项复杂的任务，涉及表示，推断和学习三个方面的问题。更详细的解释参见[Wiki](https://en.wikipedia.org/wiki/Bayesian_network)。  \n",
    "\n",
    "### 2. 马尔科夫模型  \n",
    "马尔科夫模型描述了一类重要的随机过程。考察一个随机变量序列，这些随机变量并不是相互独立的，每个随机变量的值依赖于这个序列前面的状态。如果在特定条件下，系统在时间n（离散域）的状态只与其在时间n-1的状态相关。  \n",
    "![马尔科夫模型](https://wikimedia.org/api/rest_v1/media/math/render/svg/5bc8275bf0982e56b0563650eeb2dd2eed89d6bd)  \n",
    "![状态转移概率](https://wikimedia.org/api/rest_v1/media/math/render/svg/75b8cc63114dc246811de1d877f196767212fc8a)\n",
    "该随机过程为马尔科夫模型。上式中的\\\\(P_{ij}\\\\)即状态转移函数，显然，有N个状态的一阶马尔科夫过程有\\\\(N^2\\\\)次状态转移，所以能表示成一个状态转移矩阵。  \n",
    "**注：**  \n",
    "在语言模型中，二元文法模型(bigram)被称为一阶马尔科夫链(Markov chain)，即出现在第i位上的词\\\\(w_{i}\\\\)仅与它前面的一个历史词\\\\(w_{i-1}\\\\)有关。三元文法模型(trigram)被称为二阶马尔科夫链，即出现在第i位上的词\\\\(w_{i}\\\\)仅与它前面的两个历史词\\\\(w_{i-1}w_{i-2}\\\\)有关。"
   ]
  },
  {
   "cell_type": "code",
   "execution_count": null,
   "metadata": {
    "collapsed": true
   },
   "outputs": [],
   "source": []
  }
 ],
 "metadata": {
  "kernelspec": {
   "display_name": "Python 3",
   "language": "python",
   "name": "python3"
  },
  "language_info": {
   "codemirror_mode": {
    "name": "ipython",
    "version": 3
   },
   "file_extension": ".py",
   "mimetype": "text/x-python",
   "name": "python",
   "nbconvert_exporter": "python",
   "pygments_lexer": "ipython3",
   "version": "3.6.0"
  }
 },
 "nbformat": 4,
 "nbformat_minor": 2
}

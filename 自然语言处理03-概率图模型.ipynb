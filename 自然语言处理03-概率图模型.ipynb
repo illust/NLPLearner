{
 "cells": [
  {
   "cell_type": "markdown",
   "metadata": {},
   "source": [
    "## 概率图模型\n",
    "先来了解几个概念：  \n",
    "[1] **什么是概率模型？**  \n",
    "它提供了一种描述框架，将学习任务归结于计算变量的概率分布。在概率模型中，利用已知变量推测未知变量的分布称为“推断”，其核心是如何基于可观测变量推测出未知变量的条件分布。  \n",
    "[2] **什么是概率图模型？**  \n",
    "它是一类用图来表达变量相关关系的概率模型。概率图模型大致分为两类：第一类是使用有向无环图表示变量间的依赖关系，称为有向图模型或者贝叶斯网；第二类是使用无向图表示变量间的相关关系，称为无向图模型或马尔可夫网。  \n",
    "[3]**生成式模型与判别式模型及区别**\n",
    "\n",
    "涉及到的模型和技巧列举如下：\n",
    "1. 隐马尔可夫模型\n",
    "2. 马尔科夫随机场\n",
    "3. 最大熵模型\n",
    "4. 条件随机场\n",
    "5. 学习与推断\n",
    "6. 近似推断\n",
    "7. 话题模型"
   ]
  },
  {
   "cell_type": "code",
   "execution_count": null,
   "metadata": {
    "collapsed": true
   },
   "outputs": [],
   "source": []
  }
 ],
 "metadata": {
  "kernelspec": {
   "display_name": "Python 3",
   "language": "python",
   "name": "python3"
  },
  "language_info": {
   "codemirror_mode": {
    "name": "ipython",
    "version": 3
   },
   "file_extension": ".py",
   "mimetype": "text/x-python",
   "name": "python",
   "nbconvert_exporter": "python",
   "pygments_lexer": "ipython3",
   "version": "3.6.0"
  }
 },
 "nbformat": 4,
 "nbformat_minor": 2
}

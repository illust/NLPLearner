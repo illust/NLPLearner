{
 "cells": [
  {
   "cell_type": "markdown",
   "metadata": {},
   "source": [
    "### 名词列举\n",
    "- 熵\n",
    "- 联合熵和条件熵\n",
    "- 互信息\n",
    "- 相对熵\n",
    "- 交叉熵\n",
    "- 困惑度\n",
    "- 噪声信道模型  \n",
    "\n",
    "#### 1. 熵  \n",
    "描述一个随机变量的不确定性的数量。一个随机变量的熵越大，它的不确定性越大，那么，正确估计其值的可能性就越小。**信息熵可以定量地估计信源每发送一个符号所提供的平均信息量。**  \n",
    "\n",
    "#### 2. 联合熵和条件熵\n",
    "联合熵就是描述一对随机变量平均所需要的信息量。\n",
    "熵的连锁规则。  \n",
    "\n",
    "#### 3. 互信息  \n",
    "I(X;Y)反映的是在知道了Y的值以后X的不确定性的减少量。可以理解为Y的值透露了多少关于X的信息量。实际上，**互信息体现了两变量之间的依赖程度**。  \n",
    "\n",
    "#### 4. 相对熵  \n",
    "又称为Kullback-Leibler差异（KL散度），是衡量相同事件空间里两个概率分布相对差距的测度。  \n",
    "\n",
    "#### 5. 交叉熵  \n",
    "用来衡量估计模型与真实概率分布之间的差异情况。在自然语言处理中，设计语言模型p时，我们的目标是使交叉熵最小，从而使模型最接近真实的概率分布p(x)。**模型的交叉熵越小，模型的表现越好。**  \n",
    "\n",
    "#### 6. 困惑度\n",
    "在设计语言模型时，通常使用困惑度来代替交叉熵衡量语言模型的好坏。  \n",
    "\n",
    "#### 7. 噪声信道模型\n",
    "模拟信道模型，在自然语言处理中，很多问题都可以归结为在给定输出O（可能包含误传信息）的情况下，如何从所有可能的输入I中求解最有可能的那个。"
   ]
  },
  {
   "cell_type": "code",
   "execution_count": null,
   "metadata": {
    "collapsed": true
   },
   "outputs": [],
   "source": []
  }
 ],
 "metadata": {
  "kernelspec": {
   "display_name": "Python 3",
   "language": "python",
   "name": "python3"
  },
  "language_info": {
   "codemirror_mode": {
    "name": "ipython",
    "version": 3
   },
   "file_extension": ".py",
   "mimetype": "text/x-python",
   "name": "python",
   "nbconvert_exporter": "python",
   "pygments_lexer": "ipython3",
   "version": "3.6.0"
  }
 },
 "nbformat": 4,
 "nbformat_minor": 2
}
